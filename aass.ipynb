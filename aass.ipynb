{
 "cells": [
  {
   "cell_type": "markdown",
   "metadata": {},
   "source": [
    " \\begin{align*}\n",
    "& R(\\alpha) = R_{train}(\\alpha)\\ +\\ \\sqrt{\\frac{f(h)}{N}} \\\\ \\\\\n",
    "& f(h) = h\\ +\\ h\\log(2N)\\ -\\ h\\log(h)\\ -\\ c \\\\ \\\\\n",
    "& Margin = \\rho \\\\ \\\\\n",
    "& Relative\\ Margin = \\frac{\\rho}{D} \\\\ \\\\\n",
    "& h \\leq \\ \\min(\\left\\{d,\\ \\lceil\\frac{D^2}{\\rho^2}\\rceil \\right\\})\\ +\\ 1 \\\\\n",
    "\\end{align*}\n"
   ]
  }
 ],
 "metadata": {
  "kernelspec": {
   "display_name": "Python 3",
   "language": "python",
   "name": "python3"
  },
  "language_info": {
   "codemirror_mode": {
    "name": "ipython",
    "version": 3
   },
   "file_extension": ".py",
   "mimetype": "text/x-python",
   "name": "python",
   "nbconvert_exporter": "python",
   "pygments_lexer": "ipython3",
   "version": "3.6.7"
  }
 },
 "nbformat": 4,
 "nbformat_minor": 2
}
